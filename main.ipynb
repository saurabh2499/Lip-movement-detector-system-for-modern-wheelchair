{
 "cells": [
  {
   "cell_type": "code",
   "execution_count": 1,
   "metadata": {},
   "outputs": [
    {
     "name": "stderr",
     "output_type": "stream",
     "text": [
      "Using TensorFlow backend.\n"
     ]
    }
   ],
   "source": [
    "import tensorflow as tf\n",
    "import keras\n",
    "import numpy as np\n",
    "%matplotlib inline\n",
    "from keras.models import Model\n",
    "from keras.layers import Dense, Dropout, Activation, Conv2D, MaxPooling2D, Input, Flatten, Dropout, AveragePooling2D\n",
    "import matplotlib.pyplot as plt\n",
    "import pandas as pd"
   ]
  },
  {
   "cell_type": "code",
   "execution_count": 2,
   "metadata": {},
   "outputs": [],
   "source": [
    "from glob import glob\n",
    "import cv2"
   ]
  },
  {
   "cell_type": "code",
   "execution_count": 3,
   "metadata": {},
   "outputs": [],
   "source": [
    "train = np.array(glob(\"training/1/*\"))"
   ]
  },
  {
   "cell_type": "code",
   "execution_count": 4,
   "metadata": {},
   "outputs": [],
   "source": [
    "X_train = []\n",
    "y_train = []\n",
    "for img_path in train:\n",
    "    img = cv2.imread(img_path)\n",
    "    img = cv2.cvtColor(img, cv2.COLOR_BGR2GRAY)\n",
    "    img = cv2.resize(img,(50,10))\n",
    "    X_train.append(img)\n",
    "    y_train.append(0)"
   ]
  },
  {
   "cell_type": "code",
   "execution_count": 5,
   "metadata": {},
   "outputs": [],
   "source": [
    "train = np.array(glob(\"training/2/*\"))\n",
    "for img_path in train:\n",
    "    img = cv2.imread(img_path)\n",
    "    img = cv2.cvtColor(img, cv2.COLOR_BGR2GRAY)\n",
    "    img = cv2.resize(img,(50,10))\n",
    "    X_train.append(img)\n",
    "    y_train.append(1)"
   ]
  },
  {
   "cell_type": "code",
   "execution_count": 6,
   "metadata": {},
   "outputs": [],
   "source": [
    "train = np.array(glob(\"training/3/*\"))\n",
    "for img_path in train:\n",
    "    img = cv2.imread(img_path)\n",
    "    img = cv2.cvtColor(img, cv2.COLOR_BGR2GRAY)\n",
    "    img = cv2.resize(img,(50,10))\n",
    "    X_train.append(img)\n",
    "    y_train.append(2)"
   ]
  },
  {
   "cell_type": "code",
   "execution_count": 7,
   "metadata": {},
   "outputs": [],
   "source": [
    "train = np.array(glob(\"training/4/*\"))\n",
    "for img_path in train:\n",
    "    img = cv2.imread(img_path)\n",
    "    img = cv2.cvtColor(img, cv2.COLOR_BGR2GRAY)\n",
    "    img = cv2.resize(img,(50,10))\n",
    "    X_train.append(img)\n",
    "    y_train.append(3)"
   ]
  },
  {
   "cell_type": "code",
   "execution_count": 8,
   "metadata": {},
   "outputs": [],
   "source": [
    "X_train = np.array(X_train)\n",
    "y_train = np.array(y_train)\n",
    "X_train = X_train.reshape(X_train.shape[0],X_train.shape[1],X_train.shape[2],1)\n",
    "\n",
    "y_train = keras.utils.to_categorical(y_train, 4)"
   ]
  },
  {
   "cell_type": "code",
   "execution_count": 9,
   "metadata": {},
   "outputs": [
    {
     "name": "stdout",
     "output_type": "stream",
     "text": [
      "(3715, 10, 50, 1)\n",
      "(3715, 4)\n"
     ]
    }
   ],
   "source": [
    "print(X_train.shape)\n",
    "print(y_train.shape)"
   ]
  },
  {
   "cell_type": "code",
   "execution_count": null,
   "metadata": {},
   "outputs": [],
   "source": []
  },
  {
   "cell_type": "code",
   "execution_count": 10,
   "metadata": {},
   "outputs": [],
   "source": [
    "def shuffle(x,y):\n",
    "    indices = np.arange(x.shape[0])\n",
    "    rand_indices = np.random.shuffle(indices)\n",
    "    x[indices] = x[rand_indices]\n",
    "    y[indices] = y[rand_indices]\n",
    "    return x,y"
   ]
  },
  {
   "cell_type": "code",
   "execution_count": 11,
   "metadata": {},
   "outputs": [],
   "source": [
    "X_train, y_train = shuffle(X_train, y_train)\n",
    "X_test = X_train[3000:]\n",
    "y_test = y_train[3000:]\n",
    "X_train = X_train[:3000]\n",
    "y_train = y_train[:3000]"
   ]
  },
  {
   "cell_type": "code",
   "execution_count": 12,
   "metadata": {},
   "outputs": [],
   "source": [
    "def FaceModel(input_shape = (10, 50, 1)):\n",
    "    X_input = Input(input_shape)\n",
    "    X = Conv2D(filters = 10, kernel_size = (5, 5), activation='relu', padding='same')(X_input)\n",
    "    X = AveragePooling2D(pool_size=(2, 2))(X)\n",
    "    \n",
    "    X = Conv2D(filters = 10, kernel_size = (5, 5), activation='relu', padding='same')(X)\n",
    "    X = MaxPooling2D(pool_size= (2, 2))(X)\n",
    "    \n",
    "    X = Conv2D(filters = 10, kernel_size = (3, 3), activation='relu', padding='same')(X)\n",
    "    X = MaxPooling2D(pool_size= (2, 2))(X)\n",
    "    \n",
    "    X = Flatten()(X)\n",
    "    X = Dense(256, activation = 'relu')(X)\n",
    "    X = Dropout(0.5)(X)\n",
    "    \n",
    "    X = Dense(128, activation = 'relu')(X)\n",
    "    X = Dropout(0.5)(X)\n",
    "    \n",
    "    X = Dense(4, activation = 'softmax')(X)\n",
    "\n",
    "    model = Model(inputs = X_input, outputs = X, name='FaceModel')\n",
    "\n",
    "    return model"
   ]
  },
  {
   "cell_type": "code",
   "execution_count": 13,
   "metadata": {},
   "outputs": [
    {
     "name": "stdout",
     "output_type": "stream",
     "text": [
      "_________________________________________________________________\n",
      "Layer (type)                 Output Shape              Param #   \n",
      "=================================================================\n",
      "input_1 (InputLayer)         (None, 10, 50, 1)         0         \n",
      "_________________________________________________________________\n",
      "conv2d_1 (Conv2D)            (None, 10, 50, 10)        260       \n",
      "_________________________________________________________________\n",
      "average_pooling2d_1 (Average (None, 5, 25, 10)         0         \n",
      "_________________________________________________________________\n",
      "conv2d_2 (Conv2D)            (None, 5, 25, 10)         2510      \n",
      "_________________________________________________________________\n",
      "max_pooling2d_1 (MaxPooling2 (None, 2, 12, 10)         0         \n",
      "_________________________________________________________________\n",
      "conv2d_3 (Conv2D)            (None, 2, 12, 10)         910       \n",
      "_________________________________________________________________\n",
      "max_pooling2d_2 (MaxPooling2 (None, 1, 6, 10)          0         \n",
      "_________________________________________________________________\n",
      "flatten_1 (Flatten)          (None, 60)                0         \n",
      "_________________________________________________________________\n",
      "dense_1 (Dense)              (None, 256)               15616     \n",
      "_________________________________________________________________\n",
      "dropout_1 (Dropout)          (None, 256)               0         \n",
      "_________________________________________________________________\n",
      "dense_2 (Dense)              (None, 128)               32896     \n",
      "_________________________________________________________________\n",
      "dropout_2 (Dropout)          (None, 128)               0         \n",
      "_________________________________________________________________\n",
      "dense_3 (Dense)              (None, 4)                 516       \n",
      "=================================================================\n",
      "Total params: 52,708\n",
      "Trainable params: 52,708\n",
      "Non-trainable params: 0\n",
      "_________________________________________________________________\n"
     ]
    }
   ],
   "source": [
    "model = FaceModel()\n",
    "model.summary()"
   ]
  },
  {
   "cell_type": "code",
   "execution_count": 14,
   "metadata": {},
   "outputs": [],
   "source": [
    "model.compile(optimizer= 'adam' , loss = 'categorical_crossentropy',\n",
    "              metrics= ['accuracy'])\n",
    "#test_generator = test_datagen.flow(X_test, y_test)"
   ]
  },
  {
   "cell_type": "code",
   "execution_count": 15,
   "metadata": {},
   "outputs": [],
   "source": [
    "from keras.preprocessing.image import ImageDataGenerator\n",
    "train_datagen = ImageDataGenerator(rescale=1./255)\n",
    "test_datagen = ImageDataGenerator(rescale=1./255)"
   ]
  },
  {
   "cell_type": "code",
   "execution_count": 16,
   "metadata": {},
   "outputs": [],
   "source": [
    "\n",
    "train_generator = train_datagen.flow(X_train, y_train, batch_size=64)\n",
    "test_generator = test_datagen.flow(X_test, y_test, batch_size=64)\n"
   ]
  },
  {
   "cell_type": "code",
   "execution_count": 17,
   "metadata": {},
   "outputs": [
    {
     "name": "stdout",
     "output_type": "stream",
     "text": [
      "Epoch 1/20\n",
      "46/46 [==============================] - 4s 78ms/step - loss: 1.1067 - acc: 0.5774 - val_loss: 0.9975 - val_acc: 0.5705\n",
      "Epoch 2/20\n",
      "46/46 [==============================] - 1s 14ms/step - loss: 0.9111 - acc: 0.6601 - val_loss: 0.7549 - val_acc: 0.7327\n",
      "Epoch 3/20\n",
      "46/46 [==============================] - 1s 15ms/step - loss: 0.6732 - acc: 0.7663 - val_loss: 0.5336 - val_acc: 0.8354\n",
      "Epoch 4/20\n",
      "46/46 [==============================] - 1s 15ms/step - loss: 0.5492 - acc: 0.8157 - val_loss: 0.4230 - val_acc: 0.8525\n",
      "Epoch 5/20\n",
      "46/46 [==============================] - 1s 15ms/step - loss: 0.4518 - acc: 0.8559 - val_loss: 0.3291 - val_acc: 0.8965\n",
      "Epoch 6/20\n",
      "46/46 [==============================] - 1s 15ms/step - loss: 0.3604 - acc: 0.8965 - val_loss: 0.2882 - val_acc: 0.8989\n",
      "Epoch 7/20\n",
      "46/46 [==============================] - 1s 15ms/step - loss: 0.2886 - acc: 0.9137 - val_loss: 0.2266 - val_acc: 0.9226\n",
      "Epoch 8/20\n",
      "46/46 [==============================] - 1s 15ms/step - loss: 0.2516 - acc: 0.9260 - val_loss: 0.2323 - val_acc: 0.9193\n",
      "Epoch 9/20\n",
      "46/46 [==============================] - 1s 15ms/step - loss: 0.2307 - acc: 0.9296 - val_loss: 0.1923 - val_acc: 0.9356\n",
      "Epoch 10/20\n",
      "46/46 [==============================] - 1s 15ms/step - loss: 0.2156 - acc: 0.9403 - val_loss: 0.1590 - val_acc: 0.9430\n",
      "Epoch 11/20\n",
      "46/46 [==============================] - 1s 15ms/step - loss: 0.1882 - acc: 0.9457 - val_loss: 0.1598 - val_acc: 0.9511\n",
      "Epoch 12/20\n",
      "46/46 [==============================] - 1s 15ms/step - loss: 0.1962 - acc: 0.9406 - val_loss: 0.1441 - val_acc: 0.9511\n",
      "Epoch 13/20\n",
      "46/46 [==============================] - 1s 13ms/step - loss: 0.1594 - acc: 0.9581 - val_loss: 0.1242 - val_acc: 0.9584\n",
      "Epoch 14/20\n",
      "46/46 [==============================] - 1s 13ms/step - loss: 0.1510 - acc: 0.9570 - val_loss: 0.1262 - val_acc: 0.9584\n",
      "Epoch 15/20\n",
      "46/46 [==============================] - 1s 13ms/step - loss: 0.1688 - acc: 0.9507 - val_loss: 0.1309 - val_acc: 0.9593\n",
      "Epoch 16/20\n",
      "46/46 [==============================] - 1s 14ms/step - loss: 0.1473 - acc: 0.9547 - val_loss: 0.1172 - val_acc: 0.9617\n",
      "Epoch 17/20\n",
      "46/46 [==============================] - 1s 14ms/step - loss: 0.1440 - acc: 0.9577 - val_loss: 0.1293 - val_acc: 0.9584\n",
      "Epoch 18/20\n",
      "46/46 [==============================] - 1s 13ms/step - loss: 0.1323 - acc: 0.9595 - val_loss: 0.1124 - val_acc: 0.9568\n",
      "Epoch 19/20\n",
      "46/46 [==============================] - 1s 14ms/step - loss: 0.1172 - acc: 0.9659 - val_loss: 0.1029 - val_acc: 0.9609\n",
      "Epoch 20/20\n",
      "46/46 [==============================] - 1s 13ms/step - loss: 0.1139 - acc: 0.9667 - val_loss: 0.1050 - val_acc: 0.9666\n"
     ]
    },
    {
     "data": {
      "text/plain": [
       "<keras.callbacks.History at 0x267b4e30470>"
      ]
     },
     "execution_count": 17,
     "metadata": {},
     "output_type": "execute_result"
    }
   ],
   "source": [
    "model.fit_generator(train_generator,\n",
    "                            steps_per_epoch=X_train.shape[0]//64,\n",
    "                            epochs=20,validation_data=test_generator,\n",
    "                            validation_steps=20)"
   ]
  },
  {
   "cell_type": "code",
   "execution_count": 18,
   "metadata": {},
   "outputs": [],
   "source": [
    "from scipy.spatial import distance\n",
    "from imutils import face_utils\n",
    "import imutils\n",
    "import dlib\n",
    "import cv2\n",
    "import matplotlib.pyplot as plt"
   ]
  },
  {
   "cell_type": "code",
   "execution_count": 19,
   "metadata": {},
   "outputs": [],
   "source": [
    "frame_check = 20\n",
    "detect = dlib.get_frontal_face_detector()\n",
    "predict = dlib.shape_predictor(\"shape_predictor_68_face_landmarks.dat\")"
   ]
  },
  {
   "cell_type": "code",
   "execution_count": 20,
   "metadata": {},
   "outputs": [],
   "source": [
    "(lStart, lEnd) = face_utils.FACIAL_LANDMARKS_IDXS[\"mouth\"]"
   ]
  },
  {
   "cell_type": "code",
   "execution_count": null,
   "metadata": {},
   "outputs": [],
   "source": [
    "cap=cv2.VideoCapture(0)\n",
    "flag=0\n",
    "co = 836\n",
    "while True:\n",
    "    ret, frame=cap.read()\n",
    "    frame = imutils.resize(frame, width=450)\n",
    "    gray = cv2.cvtColor(frame, cv2.COLOR_BGR2GRAY)\n",
    "    subjects = detect(gray, 0)\n",
    "    output = 0\n",
    "    for subject in subjects:\n",
    "        shape = predict(gray, subject)\n",
    "        shape = face_utils.shape_to_np(shape)#converting to NumPy Array\n",
    "        mouth = shape[lStart:lEnd]\n",
    "        x_min = min(mouth[:,1])\n",
    "        x_max = max(mouth[:,1])\n",
    "        y_min = min(mouth[:,0])\n",
    "        y_max = max(mouth[:,0])\n",
    "        inp_img = frame[x_min:x_max, y_min:y_max,:]\n",
    "        inp_img = cv2.cvtColor(inp_img, cv2.COLOR_BGR2GRAY)\n",
    "        inp_img = cv2.resize(inp_img,(50,10))\n",
    "        inp_img = inp_img.reshape(1,inp_img.shape[0],inp_img.shape[1],1)\n",
    "        output = np.argmax(model.predict(inp_img))\n",
    "    direc = \"dummy\"\n",
    "    if output == 0: direc = \"Forward\"\n",
    "    elif output == 1: direc = \"Stop\"\n",
    "    elif output == 2: direc = \"Left\"\n",
    "    elif output == 3: direc = \"Right\"\n",
    "    cv2.putText(frame, \"****************\"+direc+\"****************\", (10, 30),cv2.FONT_HERSHEY_SIMPLEX, 0.7, (0, 0, 255), 2)\n",
    "        \n",
    "        \n",
    "    cv2.imshow(\"Frame\", frame)\n",
    "    key = cv2.waitKey(1) & 0xFF\n",
    "    if key == ord(\"q\"):\n",
    "        cv2.destroyAllWindows()\n",
    "        cap.release()\n",
    "        break"
   ]
  },
  {
   "cell_type": "code",
   "execution_count": null,
   "metadata": {},
   "outputs": [],
   "source": []
  }
 ],
 "metadata": {
  "kernelspec": {
   "display_name": "Python 3",
   "language": "python",
   "name": "python3"
  },
  "language_info": {
   "codemirror_mode": {
    "name": "ipython",
    "version": 3
   },
   "file_extension": ".py",
   "mimetype": "text/x-python",
   "name": "python",
   "nbconvert_exporter": "python",
   "pygments_lexer": "ipython3",
   "version": "3.6.4"
  }
 },
 "nbformat": 4,
 "nbformat_minor": 2
}
